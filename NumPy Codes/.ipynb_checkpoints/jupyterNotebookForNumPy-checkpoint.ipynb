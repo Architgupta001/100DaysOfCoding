{
 "cells": [
  {
   "cell_type": "code",
   "execution_count": 1,
   "id": "4eb25413-a615-4216-b7c4-79739c35d2be",
   "metadata": {},
   "outputs": [
    {
     "name": "stdout",
     "output_type": "stream",
     "text": [
      "[10 20 30]\n"
     ]
    }
   ],
   "source": [
    "import numpy as np\n",
    "\n",
    "arr = np.array([10,20,30,40])\n",
    "\n",
    "print(arr[:3])"
   ]
  },
  {
   "cell_type": "code",
   "execution_count": 3,
   "id": "ea8973c4-0f8b-4c84-8fdf-0e2ac8187d7f",
   "metadata": {},
   "outputs": [
    {
     "name": "stdout",
     "output_type": "stream",
     "text": [
      "[30]\n"
     ]
    }
   ],
   "source": [
    "print(arr[2:3])"
   ]
  },
  {
   "cell_type": "code",
   "execution_count": 9,
   "id": "bdea5dae-a865-4cf4-bfc7-c9f3cca70737",
   "metadata": {},
   "outputs": [
    {
     "name": "stdout",
     "output_type": "stream",
     "text": [
      "[[20 30]\n",
      " [60 70]]\n"
     ]
    }
   ],
   "source": [
    "arr2 = np.array([[10,20,30,40],[50,60,70,80]])\n",
    "\n",
    "print(arr2[0:2,1:3])"
   ]
  },
  {
   "cell_type": "code",
   "execution_count": 10,
   "id": "bf7eaf2e-00a3-4d65-9380-328914015647",
   "metadata": {},
   "outputs": [
    {
     "name": "stdout",
     "output_type": "stream",
     "text": [
      "(2, 4)\n"
     ]
    }
   ],
   "source": [
    "print(arr2.shape)"
   ]
  },
  {
   "cell_type": "code",
   "execution_count": 11,
   "id": "6c9a1b85-f475-4dd9-89ae-67daa1ca9072",
   "metadata": {},
   "outputs": [
    {
     "name": "stdout",
     "output_type": "stream",
     "text": [
      "8\n"
     ]
    }
   ],
   "source": [
    "print(arr2.size)"
   ]
  },
  {
   "cell_type": "code",
   "execution_count": 13,
   "id": "833bbb4a-8d57-481a-a302-e18bac31bc36",
   "metadata": {},
   "outputs": [
    {
     "name": "stdout",
     "output_type": "stream",
     "text": [
      "int64\n"
     ]
    }
   ],
   "source": [
    "print(arr2.dtype)"
   ]
  },
  {
   "cell_type": "code",
   "execution_count": 17,
   "id": "9970e326-7d83-40c7-8f46-9129d331138e",
   "metadata": {},
   "outputs": [
    {
     "name": "stdout",
     "output_type": "stream",
     "text": [
      "[array([[10, 20, 30, 40]]), array([[50, 60, 70, 80]])]\n"
     ]
    }
   ],
   "source": [
    "b = np.array_split(arr2,2)\n",
    "print(b)"
   ]
  },
  {
   "cell_type": "code",
   "execution_count": null,
   "id": "9c750098-115e-407e-9451-bc958daf4637",
   "metadata": {},
   "outputs": [],
   "source": []
  }
 ],
 "metadata": {
  "kernelspec": {
   "display_name": "Python 3 (ipykernel)",
   "language": "python",
   "name": "python3"
  },
  "language_info": {
   "codemirror_mode": {
    "name": "ipython",
    "version": 3
   },
   "file_extension": ".py",
   "mimetype": "text/x-python",
   "name": "python",
   "nbconvert_exporter": "python",
   "pygments_lexer": "ipython3",
   "version": "3.12.1"
  }
 },
 "nbformat": 4,
 "nbformat_minor": 5
}
