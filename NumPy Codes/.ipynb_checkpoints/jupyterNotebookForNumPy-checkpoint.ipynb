{
 "cells": [
  {
   "cell_type": "code",
   "execution_count": 1,
   "id": "4eb25413-a615-4216-b7c4-79739c35d2be",
   "metadata": {},
   "outputs": [
    {
     "name": "stdout",
     "output_type": "stream",
     "text": [
      "[10 20 30]\n"
     ]
    }
   ],
   "source": [
    "import numpy as np\n",
    "\n",
    "arr = np.array([10,20,30,40])\n",
    "\n",
    "print(arr[:3])"
   ]
  },
  {
   "cell_type": "code",
   "execution_count": 3,
   "id": "ea8973c4-0f8b-4c84-8fdf-0e2ac8187d7f",
   "metadata": {},
   "outputs": [
    {
     "name": "stdout",
     "output_type": "stream",
     "text": [
      "[30]\n"
     ]
    }
   ],
   "source": [
    "print(arr[2:3])"
   ]
  },
  {
   "cell_type": "code",
   "execution_count": 9,
   "id": "bdea5dae-a865-4cf4-bfc7-c9f3cca70737",
   "metadata": {},
   "outputs": [
    {
     "name": "stdout",
     "output_type": "stream",
     "text": [
      "[[20 30]\n",
      " [60 70]]\n"
     ]
    }
   ],
   "source": [
    "arr2 = np.array([[10,20,30,40],[50,60,70,80]])\n",
    "\n",
    "print(arr2[0:2,1:3])"
   ]
  },
  {
   "cell_type": "code",
   "execution_count": 10,
   "id": "bf7eaf2e-00a3-4d65-9380-328914015647",
   "metadata": {},
   "outputs": [
    {
     "name": "stdout",
     "output_type": "stream",
     "text": [
      "(2, 4)\n"
     ]
    }
   ],
   "source": [
    "print(arr2.shape)"
   ]
  },
  {
   "cell_type": "code",
   "execution_count": 11,
   "id": "6c9a1b85-f475-4dd9-89ae-67daa1ca9072",
   "metadata": {},
   "outputs": [
    {
     "name": "stdout",
     "output_type": "stream",
     "text": [
      "8\n"
     ]
    }
   ],
   "source": [
    "print(arr2.size)"
   ]
  },
  {
   "cell_type": "code",
   "execution_count": 13,
   "id": "833bbb4a-8d57-481a-a302-e18bac31bc36",
   "metadata": {},
   "outputs": [
    {
     "name": "stdout",
     "output_type": "stream",
     "text": [
      "int64\n"
     ]
    }
   ],
   "source": [
    "print(arr2.dtype)"
   ]
  },
  {
   "cell_type": "code",
   "execution_count": 17,
   "id": "9970e326-7d83-40c7-8f46-9129d331138e",
   "metadata": {},
   "outputs": [
    {
     "name": "stdout",
     "output_type": "stream",
     "text": [
      "[array([[10, 20, 30, 40]]), array([[50, 60, 70, 80]])]\n"
     ]
    }
   ],
   "source": [
    "b = np.array_split(arr2,2)\n",
    "print(b)"
   ]
  },
  {
   "cell_type": "code",
   "execution_count": 2,
   "id": "9c750098-115e-407e-9451-bc958daf4637",
   "metadata": {},
   "outputs": [],
   "source": [
    "# will start with functions on arrays"
   ]
  },
  {
   "cell_type": "code",
   "execution_count": 9,
   "id": "efadef62-aa1a-4239-8405-2483f9e37ecf",
   "metadata": {},
   "outputs": [],
   "source": [
    "import numpy as np\n",
    "\n",
    "arr1D = np.array([1,2,3,4])\n",
    "arr2D = np.array([[10,20,30,40],[50,60,70,80]])"
   ]
  },
  {
   "cell_type": "code",
   "execution_count": 14,
   "id": "b06fd2c4-4ee1-4c73-93c1-a12cf3be31de",
   "metadata": {},
   "outputs": [
    {
     "name": "stdout",
     "output_type": "stream",
     "text": [
      "[ 1  2  3  4 50]\n",
      "[ 1  2  3  4 50 70]\n"
     ]
    }
   ],
   "source": [
    "# append in 1D\n",
    "\n",
    "print(np.append(arr1D,[50]))\n",
    "print(np.append(arr1D,[50,70]))"
   ]
  },
  {
   "cell_type": "code",
   "execution_count": 19,
   "id": "e359f832-c1b4-44a7-a9a0-a8e64ae10db5",
   "metadata": {},
   "outputs": [
    {
     "name": "stdout",
     "output_type": "stream",
     "text": [
      "[10 20 30 40 50 60 70 80  5]\n",
      "[10 20 30 40 50 60 70 80  5  7]\n"
     ]
    }
   ],
   "source": [
    "# append in 2D\n",
    "\n",
    "print(np.append(arr2D,[5]))\n",
    "print(np.append(arr2D,[5,7]))"
   ]
  },
  {
   "cell_type": "code",
   "execution_count": 24,
   "id": "5d4e7eec-280e-44cf-b734-96118ce3d654",
   "metadata": {},
   "outputs": [
    {
     "name": "stdout",
     "output_type": "stream",
     "text": [
      "[ 1 50  2  3  4]\n",
      "[ 1 50 70  2  3  4]\n"
     ]
    }
   ],
   "source": [
    "# insert in 1D\n",
    "\n",
    "print(np.insert(arr1D,1,[50]))\n",
    "print(np.insert(arr1D,1,[50,70]))"
   ]
  },
  {
   "cell_type": "code",
   "execution_count": 49,
   "id": "f520cf44-0ebe-4e02-889b-c694ba0c6fc9",
   "metadata": {},
   "outputs": [
    {
     "name": "stdout",
     "output_type": "stream",
     "text": [
      "[10  5 20 30 40 50 60 70 80]\n",
      "[10  5  7 20 30 40 50 60 70 80]\n",
      "[[10  5 20 30 40]\n",
      " [50  5 60 70 80]]\n",
      "[[10 20 30 40]\n",
      " [ 5  5  5  5]\n",
      " [50 60 70 80]]\n",
      "[[10  5 20 30 40]\n",
      " [50  7 60 70 80]]\n"
     ]
    }
   ],
   "source": [
    "# insert in 2D\n",
    "\n",
    "print(np.insert(arr2D,1,[5]))\n",
    "print(np.insert(arr2D,1,[5,7]))\n",
    "print(np.insert(arr2D,1,[5],axis=1))\n",
    "print(np.insert(arr2D,1,[5],axis=0))\n",
    "print(np.insert(arr2D,1,[5,7],axis=1))\n"
   ]
  },
  {
   "cell_type": "code",
   "execution_count": 46,
   "id": "cf8fc784-48f7-465a-9e4d-a1d62d5e77bf",
   "metadata": {},
   "outputs": [
    {
     "name": "stdout",
     "output_type": "stream",
     "text": [
      "[1 3 4]\n",
      "[1 2]\n"
     ]
    }
   ],
   "source": [
    "# delete in 1D\n",
    "\n",
    "print(np.delete(arr1D,1))\n",
    "print(np.delete(arr1D,[2,3]))"
   ]
  },
  {
   "cell_type": "code",
   "execution_count": 47,
   "id": "6e41dea0-1f89-4c8a-a6b4-ebcddf45fbe2",
   "metadata": {},
   "outputs": [
    {
     "name": "stdout",
     "output_type": "stream",
     "text": [
      "[10 30 40 50 60 70 80]\n",
      "[10 20 50 60 70 80]\n"
     ]
    }
   ],
   "source": [
    "# delete in 2D\n",
    "\n",
    "print(np.delete(arr2D,1))\n",
    "print(np.delete(arr2D,[2,3]))"
   ]
  },
  {
   "cell_type": "code",
   "execution_count": 50,
   "id": "486e4254-992b-4895-9f36-989b1ab8b757",
   "metadata": {},
   "outputs": [],
   "source": [
    "# Search, sort and filter arrays"
   ]
  },
  {
   "cell_type": "code",
   "execution_count": 51,
   "id": "ed1737ae-2dd9-4c0d-969b-0aa37e40fc2c",
   "metadata": {},
   "outputs": [],
   "source": [
    "import numpy as np\n",
    "\n",
    "arr1D = np.array([2,1,4,3])\n",
    "arr2D = np.array([[2,1,4,3],[7,6,8,5]])"
   ]
  },
  {
   "cell_type": "code",
   "execution_count": 53,
   "id": "1fd74cd8-cb59-41f7-990d-b1c26f8b23e9",
   "metadata": {},
   "outputs": [
    {
     "name": "stdout",
     "output_type": "stream",
     "text": [
      "[1 2 3 4]\n",
      "[[1 2 3 4]\n",
      " [5 6 7 8]]\n"
     ]
    }
   ],
   "source": [
    "print(np.sort(arr1D))\n",
    "print(np.sort(arr2D))"
   ]
  },
  {
   "cell_type": "code",
   "execution_count": 63,
   "id": "99ed0971-a173-464b-9609-c1e326483b12",
   "metadata": {},
   "outputs": [
    {
     "name": "stdout",
     "output_type": "stream",
     "text": [
      "(array([2]),)\n",
      "(array([1]), array([3]))\n"
     ]
    }
   ],
   "source": [
    "print(np.where(arr1D == 4))\n",
    "print(np.where(arr2D == 5))"
   ]
  },
  {
   "cell_type": "code",
   "execution_count": 64,
   "id": "f23f1b02-aa1b-420d-b2de-8c6864064e4b",
   "metadata": {},
   "outputs": [
    {
     "name": "stdout",
     "output_type": "stream",
     "text": [
      "(array([0, 2]),)\n",
      "(array([0, 0, 1, 1]), array([0, 2, 1, 2]))\n"
     ]
    }
   ],
   "source": [
    "print(np.where(arr1D % 2 == 0))\n",
    "print(np.where(arr2D % 2 == 0))"
   ]
  },
  {
   "cell_type": "code",
   "execution_count": 68,
   "id": "cb668da5-739b-4a1b-b13b-6b273c557926",
   "metadata": {},
   "outputs": [
    {
     "name": "stdout",
     "output_type": "stream",
     "text": [
      "2\n"
     ]
    }
   ],
   "source": [
    "sorted_array= np.array([1,2,3,4,5])\n",
    "print(np.searchsorted(sorted_array,3))"
   ]
  },
  {
   "cell_type": "code",
   "execution_count": 72,
   "id": "df60b616-dcba-4a70-8f38-7c9465510956",
   "metadata": {},
   "outputs": [
    {
     "name": "stdout",
     "output_type": "stream",
     "text": [
      "[1 2 5]\n"
     ]
    }
   ],
   "source": [
    "# Filtering of array\n",
    "\n",
    "arr = np.array([1,3,2,5])\n",
    "filtered_array = [True, False, True, True]\n",
    "print(arr[filtered_array])\n"
   ]
  },
  {
   "cell_type": "code",
   "execution_count": 73,
   "id": "49b2bb98-4518-44ff-b4f5-72e73274338a",
   "metadata": {},
   "outputs": [
    {
     "name": "stdout",
     "output_type": "stream",
     "text": [
      "[3 5]\n"
     ]
    }
   ],
   "source": [
    "arr = np.array([1,3,2,5])\n",
    "filtered_array = arr>2\n",
    "print(arr[filtered_array])"
   ]
  },
  {
   "cell_type": "code",
   "execution_count": 74,
   "id": "480ab5ac-0b09-41f9-9840-e83d37be507d",
   "metadata": {},
   "outputs": [],
   "source": [
    "# Aggregating functions in arrays"
   ]
  },
  {
   "cell_type": "code",
   "execution_count": 80,
   "id": "8d6fd653-43d1-4501-9851-bf0a98ed614a",
   "metadata": {},
   "outputs": [
    {
     "name": "stdout",
     "output_type": "stream",
     "text": [
      "190\n",
      "20\n",
      "70\n",
      "4\n",
      "47.5\n",
      "[ 20  60 120 190]\n",
      "[     20     800   48000 3360000]\n"
     ]
    }
   ],
   "source": [
    "a = np.array([20,40,60,70])\n",
    "print(np.sum(a))\n",
    "print(np.min(a))\n",
    "print(np.max(a))\n",
    "print(np.size(a))\n",
    "print(np.mean(a))\n",
    "print(np.cumsum(a))\n",
    "print(np.cumprod(a))"
   ]
  },
  {
   "cell_type": "code",
   "execution_count": 92,
   "id": "9397e51a-95a5-4885-8e1e-3bbcdd978f6e",
   "metadata": {},
   "outputs": [
    {
     "name": "stdout",
     "output_type": "stream",
     "text": [
      "31270\n"
     ]
    }
   ],
   "source": [
    "price = np.array([100,150,199,200,250,130]) \n",
    "quantity = np.array([10,50,30,40,30,10])\n",
    "arr = np.cumprod([price,quantity],axis=0)\n",
    "print(np.sum(arr[1]))"
   ]
  },
  {
   "cell_type": "code",
   "execution_count": 106,
   "id": "ed5249b3-1ebb-4954-98ec-03880687b36b",
   "metadata": {},
   "outputs": [
    {
     "name": "stdout",
     "output_type": "stream",
     "text": [
      "176.0\n",
      "179.0\n",
      "200\n",
      "29.017236257093817\n",
      "842.0\n"
     ]
    }
   ],
   "source": [
    "# statistical functions\n",
    "\n",
    "import numpy as np\n",
    "import statistics as stats\n",
    "\n",
    "baked_food = [200,150,150,130,200,220,170,188]\n",
    "a = np.array(baked_food)\n",
    "\n",
    "print(np.mean(a))\n",
    "print(np.median(a))\n",
    "print(stats.mode(a))\n",
    "print(np.std(a))\n",
    "print(np.var(a))"
   ]
  },
  {
   "cell_type": "code",
   "execution_count": null,
   "id": "e828473f-879f-4f0e-b798-12b5d905d14e",
   "metadata": {},
   "outputs": [],
   "source": []
  }
 ],
 "metadata": {
  "kernelspec": {
   "display_name": "Python 3 (ipykernel)",
   "language": "python",
   "name": "python3"
  },
  "language_info": {
   "codemirror_mode": {
    "name": "ipython",
    "version": 3
   },
   "file_extension": ".py",
   "mimetype": "text/x-python",
   "name": "python",
   "nbconvert_exporter": "python",
   "pygments_lexer": "ipython3",
   "version": "3.12.1"
  }
 },
 "nbformat": 4,
 "nbformat_minor": 5
}
